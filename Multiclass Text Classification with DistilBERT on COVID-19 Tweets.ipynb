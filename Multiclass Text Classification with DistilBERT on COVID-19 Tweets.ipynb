{
 "cells": [
  {
   "cell_type": "markdown",
   "id": "0280ad65",
   "metadata": {},
   "source": [
    "# Coronavirus tweets NLP - Text Classification\n",
    "### Corona Virus Tagged Data"
   ]
  },
  {
   "cell_type": "markdown",
   "id": "b958550f",
   "metadata": {},
   "source": [
    "**Task**  \n",
    "Perform Text Classification on the tweets pulled from Twitter."
   ]
  },
  {
   "cell_type": "markdown",
   "id": "ed108fa4",
   "metadata": {},
   "source": [
    "**Columns:**\n",
    "- Location  \n",
    "- Tweet At  \n",
    "- Original Tweet  \n",
    "- Label  "
   ]
  },
  {
   "cell_type": "markdown",
   "id": "61fa8f69",
   "metadata": {},
   "source": [
    "**Models**  \n",
    "I used a baseline Naive Bayes model and a Neural Network archiecture using DistilBERT as the embedding layer with a LSTM and Dense layers following. I used huggingface's transformers library and tensorflow for the deep learning model and scikit-learn for the naive bayes model. I also used GPU acceleration through a GTX 1060 (6GB) for training the neural network. "
   ]
  },
  {
   "cell_type": "markdown",
   "id": "0f7e5d9d",
   "metadata": {},
   "source": [
    "**Link to data:**  \n",
    "https://www.kaggle.com/datatattle/covid-19-nlp-text-classification"
   ]
  },
  {
   "cell_type": "markdown",
   "id": "b343588e",
   "metadata": {},
   "source": [
    "<hr>"
   ]
  },
  {
   "cell_type": "markdown",
   "id": "28afa396",
   "metadata": {},
   "source": [
    "**Imports**"
   ]
  },
  {
   "cell_type": "code",
   "execution_count": 3,
   "id": "9843848f",
   "metadata": {},
   "outputs": [],
   "source": [
    "import os\n",
    "import re\n",
    "import string\n",
    "import numpy as np\n",
    "import pandas as pd\n",
    "import matplotlib.pyplot as plt\n",
    "import seaborn as sns\n",
    "from tqdm import tqdm # Progress Bar\n",
    "import nltk\n",
    "from nltk.corpus import stopwords\n",
    "from nltk.stem.porter import PorterStemmer\n",
    "from sklearn.preprocessing import LabelEncoder\n",
    "from sklearn.feature_extraction.text import TfidfVectorizer\n",
    "from sklearn.naive_bayes import MultinomialNB\n",
    "from sklearn.pipeline import make_pipeline\n",
    "from sklearn.metrics import confusion_matrix, classification_report, accuracy_score\n",
    "import transformers\n",
    "from transformers import DistilBertTokenizer, TFDistilBertModel, DistilBertConfig\n",
    "import tensorflow as tf\n",
    "from tensorflow.keras.callbacks import ModelCheckpoint, ReduceLROnPlateau, EarlyStopping\n",
    "import warnings\n",
    "from transformers import logging as hf_logging\n",
    "hf_logging.set_verbosity_error() # Hidding Huggingface Warnings\n",
    "warnings.filterwarnings(\"ignore\")"
   ]
  },
  {
   "cell_type": "markdown",
   "id": "9ddddfb3",
   "metadata": {},
   "source": [
    "Enabling GPU"
   ]
  },
  {
   "cell_type": "code",
   "execution_count": 2,
   "id": "005c32e5",
   "metadata": {},
   "outputs": [
    {
     "name": "stdout",
     "output_type": "stream",
     "text": [
      "1 Physical GPUs, 1 Logical GPUs\n"
     ]
    }
   ],
   "source": [
    "gpus = tf.config.experimental.list_physical_devices('GPU')\n",
    "if gpus:\n",
    "  try:\n",
    "    # Currently, memory growth needs to be the same across GPUs\n",
    "    for gpu in gpus:\n",
    "      tf.config.experimental.set_memory_growth(gpu, True)\n",
    "    logical_gpus = tf.config.experimental.list_logical_devices('GPU')\n",
    "    print(len(gpus), \"Physical GPUs,\", len(logical_gpus), \"Logical GPUs\")\n",
    "  except RuntimeError as e:\n",
    "    # Memory growth must be set before GPUs have been initialized\n",
    "    print(e)"
   ]
  },
  {
   "cell_type": "code",
   "execution_count": 4,
   "id": "e4fed802",
   "metadata": {},
   "outputs": [],
   "source": [
    "plt.style.use('ggplot')"
   ]
  },
  {
   "cell_type": "markdown",
   "id": "83768e2d",
   "metadata": {},
   "source": [
    "**DistilBERT Model**"
   ]
  },
  {
   "cell_type": "markdown",
   "id": "4eca1f0f",
   "metadata": {},
   "source": [
    "https://huggingface.co/distilbert-base-uncased"
   ]
  },
  {
   "cell_type": "code",
   "execution_count": 5,
   "id": "5041aeaf",
   "metadata": {},
   "outputs": [],
   "source": [
    "MODEL_NAME = 'distilbert-base-cased'"
   ]
  },
  {
   "cell_type": "markdown",
   "id": "accd5142",
   "metadata": {},
   "source": [
    "### Loading Data"
   ]
  },
  {
   "cell_type": "code",
   "execution_count": 6,
   "id": "289f0458",
   "metadata": {},
   "outputs": [],
   "source": [
    "test_df = pd.read_csv('./Corona_NLP_test.csv', encoding = \"UTF-8\", encoding_errors='ignore')\n",
    "train_df = pd.read_csv('./Corona_NLP_train.csv', encoding = \"UTF-8\", encoding_errors='ignore')"
   ]
  },
  {
   "cell_type": "markdown",
   "id": "5fb48c57",
   "metadata": {},
   "source": [
    "*Dropping any duplicates or missing values*"
   ]
  },
  {
   "cell_type": "code",
   "execution_count": 7,
   "id": "e377c838",
   "metadata": {},
   "outputs": [],
   "source": [
    "train_df.drop_duplicates(inplace= True)\n",
    "test_df.drop_duplicates(inplace=True)"
   ]
  },
  {
   "cell_type": "code",
   "execution_count": 8,
   "id": "9b2466fe",
   "metadata": {},
   "outputs": [
    {
     "data": {
      "text/plain": [
       "UserName            0\n",
       "ScreenName          0\n",
       "Location         8590\n",
       "TweetAt             0\n",
       "OriginalTweet       0\n",
       "Sentiment           0\n",
       "dtype: int64"
      ]
     },
     "execution_count": 8,
     "metadata": {},
     "output_type": "execute_result"
    }
   ],
   "source": [
    "train_df.isna().sum()"
   ]
  },
  {
   "cell_type": "code",
   "execution_count": 9,
   "id": "94c98c97",
   "metadata": {},
   "outputs": [
    {
     "data": {
      "text/plain": [
       "UserName           0\n",
       "ScreenName         0\n",
       "Location         834\n",
       "TweetAt            0\n",
       "OriginalTweet      0\n",
       "Sentiment          0\n",
       "dtype: int64"
      ]
     },
     "execution_count": 9,
     "metadata": {},
     "output_type": "execute_result"
    }
   ],
   "source": [
    "test_df.isna().sum()"
   ]
  },
  {
   "cell_type": "markdown",
   "id": "89fd2c92",
   "metadata": {},
   "source": [
    "Because a missing location is not as important as a missing tweet or sentiment, I will not remove those entires."
   ]
  },
  {
   "cell_type": "code",
   "execution_count": 10,
   "id": "69ab8375",
   "metadata": {},
   "outputs": [
    {
     "name": "stdout",
     "output_type": "stream",
     "text": [
      "There are 41157 entries in the training dataframe\n"
     ]
    },
    {
     "data": {
      "text/html": [
       "<div>\n",
       "<style scoped>\n",
       "    .dataframe tbody tr th:only-of-type {\n",
       "        vertical-align: middle;\n",
       "    }\n",
       "\n",
       "    .dataframe tbody tr th {\n",
       "        vertical-align: top;\n",
       "    }\n",
       "\n",
       "    .dataframe thead th {\n",
       "        text-align: right;\n",
       "    }\n",
       "</style>\n",
       "<table border=\"1\" class=\"dataframe\">\n",
       "  <thead>\n",
       "    <tr style=\"text-align: right;\">\n",
       "      <th></th>\n",
       "      <th>UserName</th>\n",
       "      <th>ScreenName</th>\n",
       "      <th>Location</th>\n",
       "      <th>TweetAt</th>\n",
       "      <th>OriginalTweet</th>\n",
       "      <th>Sentiment</th>\n",
       "    </tr>\n",
       "  </thead>\n",
       "  <tbody>\n",
       "    <tr>\n",
       "      <th>0</th>\n",
       "      <td>3799</td>\n",
       "      <td>48751</td>\n",
       "      <td>London</td>\n",
       "      <td>16-03-2020</td>\n",
       "      <td>@MeNyrbie @Phil_Gahan @Chrisitv https://t.co/i...</td>\n",
       "      <td>Neutral</td>\n",
       "    </tr>\n",
       "    <tr>\n",
       "      <th>1</th>\n",
       "      <td>3800</td>\n",
       "      <td>48752</td>\n",
       "      <td>UK</td>\n",
       "      <td>16-03-2020</td>\n",
       "      <td>advice Talk to your neighbours family to excha...</td>\n",
       "      <td>Positive</td>\n",
       "    </tr>\n",
       "    <tr>\n",
       "      <th>2</th>\n",
       "      <td>3801</td>\n",
       "      <td>48753</td>\n",
       "      <td>Vagabonds</td>\n",
       "      <td>16-03-2020</td>\n",
       "      <td>Coronavirus Australia: Woolworths to give elde...</td>\n",
       "      <td>Positive</td>\n",
       "    </tr>\n",
       "    <tr>\n",
       "      <th>3</th>\n",
       "      <td>3802</td>\n",
       "      <td>48754</td>\n",
       "      <td>NaN</td>\n",
       "      <td>16-03-2020</td>\n",
       "      <td>My food stock is not the only one which is emp...</td>\n",
       "      <td>Positive</td>\n",
       "    </tr>\n",
       "    <tr>\n",
       "      <th>4</th>\n",
       "      <td>3803</td>\n",
       "      <td>48755</td>\n",
       "      <td>NaN</td>\n",
       "      <td>16-03-2020</td>\n",
       "      <td>Me, ready to go at supermarket during the #COV...</td>\n",
       "      <td>Extremely Negative</td>\n",
       "    </tr>\n",
       "  </tbody>\n",
       "</table>\n",
       "</div>"
      ],
      "text/plain": [
       "   UserName  ScreenName   Location     TweetAt  \\\n",
       "0      3799       48751     London  16-03-2020   \n",
       "1      3800       48752         UK  16-03-2020   \n",
       "2      3801       48753  Vagabonds  16-03-2020   \n",
       "3      3802       48754        NaN  16-03-2020   \n",
       "4      3803       48755        NaN  16-03-2020   \n",
       "\n",
       "                                       OriginalTweet           Sentiment  \n",
       "0  @MeNyrbie @Phil_Gahan @Chrisitv https://t.co/i...             Neutral  \n",
       "1  advice Talk to your neighbours family to excha...            Positive  \n",
       "2  Coronavirus Australia: Woolworths to give elde...            Positive  \n",
       "3  My food stock is not the only one which is emp...            Positive  \n",
       "4  Me, ready to go at supermarket during the #COV...  Extremely Negative  "
      ]
     },
     "execution_count": 10,
     "metadata": {},
     "output_type": "execute_result"
    }
   ],
   "source": [
    "print(f\"There are {train_df.shape[0]} entries in the training dataframe\")\n",
    "train_df.head()"
   ]
  },
  {
   "cell_type": "code",
   "execution_count": 11,
   "id": "ca726c61",
   "metadata": {},
   "outputs": [
    {
     "name": "stdout",
     "output_type": "stream",
     "text": [
      "There are 3798 entries in the test dataframe\n"
     ]
    },
    {
     "data": {
      "text/html": [
       "<div>\n",
       "<style scoped>\n",
       "    .dataframe tbody tr th:only-of-type {\n",
       "        vertical-align: middle;\n",
       "    }\n",
       "\n",
       "    .dataframe tbody tr th {\n",
       "        vertical-align: top;\n",
       "    }\n",
       "\n",
       "    .dataframe thead th {\n",
       "        text-align: right;\n",
       "    }\n",
       "</style>\n",
       "<table border=\"1\" class=\"dataframe\">\n",
       "  <thead>\n",
       "    <tr style=\"text-align: right;\">\n",
       "      <th></th>\n",
       "      <th>UserName</th>\n",
       "      <th>ScreenName</th>\n",
       "      <th>Location</th>\n",
       "      <th>TweetAt</th>\n",
       "      <th>OriginalTweet</th>\n",
       "      <th>Sentiment</th>\n",
       "    </tr>\n",
       "  </thead>\n",
       "  <tbody>\n",
       "    <tr>\n",
       "      <th>0</th>\n",
       "      <td>1</td>\n",
       "      <td>44953</td>\n",
       "      <td>NYC</td>\n",
       "      <td>02-03-2020</td>\n",
       "      <td>TRENDING: New Yorkers encounter empty supermar...</td>\n",
       "      <td>Extremely Negative</td>\n",
       "    </tr>\n",
       "    <tr>\n",
       "      <th>1</th>\n",
       "      <td>2</td>\n",
       "      <td>44954</td>\n",
       "      <td>Seattle, WA</td>\n",
       "      <td>02-03-2020</td>\n",
       "      <td>When I couldn't find hand sanitizer at Fred Me...</td>\n",
       "      <td>Positive</td>\n",
       "    </tr>\n",
       "    <tr>\n",
       "      <th>2</th>\n",
       "      <td>3</td>\n",
       "      <td>44955</td>\n",
       "      <td>NaN</td>\n",
       "      <td>02-03-2020</td>\n",
       "      <td>Find out how you can protect yourself and love...</td>\n",
       "      <td>Extremely Positive</td>\n",
       "    </tr>\n",
       "    <tr>\n",
       "      <th>3</th>\n",
       "      <td>4</td>\n",
       "      <td>44956</td>\n",
       "      <td>Chicagoland</td>\n",
       "      <td>02-03-2020</td>\n",
       "      <td>#Panic buying hits #NewYork City as anxious sh...</td>\n",
       "      <td>Negative</td>\n",
       "    </tr>\n",
       "    <tr>\n",
       "      <th>4</th>\n",
       "      <td>5</td>\n",
       "      <td>44957</td>\n",
       "      <td>Melbourne, Victoria</td>\n",
       "      <td>03-03-2020</td>\n",
       "      <td>#toiletpaper #dunnypaper #coronavirus #coronav...</td>\n",
       "      <td>Neutral</td>\n",
       "    </tr>\n",
       "  </tbody>\n",
       "</table>\n",
       "</div>"
      ],
      "text/plain": [
       "   UserName  ScreenName             Location     TweetAt  \\\n",
       "0         1       44953                  NYC  02-03-2020   \n",
       "1         2       44954          Seattle, WA  02-03-2020   \n",
       "2         3       44955                  NaN  02-03-2020   \n",
       "3         4       44956          Chicagoland  02-03-2020   \n",
       "4         5       44957  Melbourne, Victoria  03-03-2020   \n",
       "\n",
       "                                       OriginalTweet           Sentiment  \n",
       "0  TRENDING: New Yorkers encounter empty supermar...  Extremely Negative  \n",
       "1  When I couldn't find hand sanitizer at Fred Me...            Positive  \n",
       "2  Find out how you can protect yourself and love...  Extremely Positive  \n",
       "3  #Panic buying hits #NewYork City as anxious sh...            Negative  \n",
       "4  #toiletpaper #dunnypaper #coronavirus #coronav...             Neutral  "
      ]
     },
     "execution_count": 11,
     "metadata": {},
     "output_type": "execute_result"
    }
   ],
   "source": [
    "print(f\"There are {test_df.shape[0]} entries in the test dataframe\")\n",
    "test_df.head()"
   ]
  },
  {
   "cell_type": "code",
   "execution_count": 12,
   "id": "23a3039a",
   "metadata": {
    "scrolled": false
   },
   "outputs": [
    {
     "data": {
      "image/png": "[encoded data removed]",
      "text/plain": [
       "<Figure size 720x360 with 2 Axes>"
      ]
     },
     "metadata": {},
     "output_type": "display_data"
    }
   ],
   "source": [
    "reorder = ['Extremely Positive', 'Positive', 'Neutral', 'Negative', 'Extremely Negative']\n",
    "\n",
    "fig, axes = plt.subplots(1,2 , figsize=(10,5))\n",
    "\n",
    "train_df.value_counts('Sentiment').reindex(index=reorder).plot(kind='bar', ax=axes[0])\n",
    "plt.sca(axes[0])\n",
    "plt.xticks(rotation=45, horizontalalignment='right')\n",
    "plt.title('Training Dataset')\n",
    "plt.ylabel('Counts')\n",
    "\n",
    "test_df.value_counts('Sentiment').reindex(index=reorder).plot(kind='bar', ax=axes[1])\n",
    "plt.sca(axes[1])\n",
    "plt.xticks(rotation=45, horizontalalignment='right')\n",
    "plt.title('Testing Dataset');"
   ]
  },
  {
   "cell_type": "markdown",
   "id": "bde60c01",
   "metadata": {},
   "source": [
    "It looks like the training and testsing datasets are not balanced across all categories."
   ]
  },
  {
   "cell_type": "code",
   "execution_count": 13,
   "id": "a992b6ce",
   "metadata": {},
   "outputs": [
    {
     "name": "stdout",
     "output_type": "stream",
     "text": [
      "The max word count is 64\n"
     ]
    }
   ],
   "source": [
    "max_words = []\n",
    "for row in train_df['OriginalTweet']:\n",
    "    max_words.append(len(row.split()))\n",
    "print(f\"The max word count is {np.asarray(max_words).max()}\")"
   ]
  },
  {
   "cell_type": "markdown",
   "id": "f30183b8",
   "metadata": {},
   "source": [
    "**Getting rid of the URL's in the tweets**"
   ]
  },
  {
   "cell_type": "code",
   "execution_count": 14,
   "id": "698fb0e8",
   "metadata": {},
   "outputs": [
    {
     "name": "stdout",
     "output_type": "stream",
     "text": [
      "TRENDING: New Yorkers encounter empty supermarket shelves (pictured, Wegmans in Brooklyn), sold-out online grocers (FoodKick, MaxDelivery) as #coronavirus-fearing shoppers stock up https://t.co/Gr76pcrLWh https://t.co/ivMKMsqdT1\n"
     ]
    },
    {
     "data": {
      "text/plain": [
       "'TRENDING: New Yorkers encounter empty supermarket shelves (pictured, Wegmans in Brooklyn), sold-out online grocers (FoodKick, MaxDelivery) as #coronavirus-fearing shoppers stock up  '"
      ]
     },
     "execution_count": 14,
     "metadata": {},
     "output_type": "execute_result"
    }
   ],
   "source": [
    "test_str = test_df['OriginalTweet'][0]\n",
    "print(test_str)\n",
    "\n",
    "def remove_https(row):\n",
    "    return re.sub(r'http\\S+', '', row)\n",
    "\n",
    "remove_https(test_str)"
   ]
  },
  {
   "cell_type": "markdown",
   "id": "9eeeeee0",
   "metadata": {},
   "source": [
    "*Apply to whole datasets*"
   ]
  },
  {
   "cell_type": "code",
   "execution_count": 15,
   "id": "caee95cf",
   "metadata": {},
   "outputs": [],
   "source": [
    "train_df['OriginalTweet_no_URL'] = train_df['OriginalTweet'].apply(remove_https)\n",
    "test_df['OriginalTweet_no_URL'] = test_df['OriginalTweet'].apply(remove_https)"
   ]
  },
  {
   "cell_type": "markdown",
   "id": "75dd90a5",
   "metadata": {},
   "source": [
    "**Label Encode the datasets**"
   ]
  },
  {
   "cell_type": "code",
   "execution_count": 16,
   "id": "bf5dd59a",
   "metadata": {},
   "outputs": [],
   "source": [
    "le = LabelEncoder()\n",
    "train_df['Sentiment_label'] = le.fit_transform(train_df['Sentiment'])\n",
    "test_df['Sentiment_label'] = le.transform(test_df['Sentiment'])"
   ]
  },
  {
   "cell_type": "code",
   "execution_count": 17,
   "id": "ec046f31",
   "metadata": {},
   "outputs": [
    {
     "name": "stdout",
     "output_type": "stream",
     "text": [
      "0 Extremely Negative\n",
      "1 Extremely Positive\n",
      "2 Negative\n",
      "3 Neutral\n",
      "4 Positive\n"
     ]
    }
   ],
   "source": [
    "label_dict = (test_df[['Sentiment','Sentiment_label']].drop_duplicates()\n",
    "              .sort_values(by='Sentiment_label')\n",
    "              .reset_index(drop=True)['Sentiment']\n",
    "              .to_dict())\n",
    "\n",
    "for index, key in label_dict.items():\n",
    "    print(index, key)"
   ]
  },
  {
   "cell_type": "markdown",
   "id": "ef219fca",
   "metadata": {},
   "source": [
    "**Splitting the data**"
   ]
  },
  {
   "cell_type": "markdown",
   "id": "9733cae1",
   "metadata": {},
   "source": [
    "I will take 10% of the training data as validation data"
   ]
  },
  {
   "cell_type": "code",
   "execution_count": 18,
   "id": "f7e8393b",
   "metadata": {},
   "outputs": [
    {
     "name": "stdout",
     "output_type": "stream",
     "text": [
      "37041 training examples\n",
      "4116 validation examples\n"
     ]
    }
   ],
   "source": [
    "# Get the number training samples\n",
    "num_train_samples = int(train_df.shape[0] * 0.9)\n",
    "\n",
    "x_train = train_df['OriginalTweet_no_URL'][:num_train_samples]\n",
    "y_train = train_df['Sentiment_label'][:num_train_samples]\n",
    "x_val = train_df['OriginalTweet_no_URL'][num_train_samples:]\n",
    "y_val = train_df['Sentiment_label'][num_train_samples:]\n",
    "\n",
    "### Sanity Check\n",
    "assert(len(x_train) + len(x_val) == train_df.shape[0])\n",
    "\n",
    "print(f\"{len(x_train)} training examples\\n{len(x_val)} validation examples\")"
   ]
  },
  {
   "cell_type": "code",
   "execution_count": 19,
   "id": "7c0fcac9",
   "metadata": {},
   "outputs": [
    {
     "name": "stdout",
     "output_type": "stream",
     "text": [
      "3798 testing examples\n"
     ]
    }
   ],
   "source": [
    "x_test = test_df['OriginalTweet_no_URL']\n",
    "y_test = test_df['Sentiment_label']\n",
    "print(f\"{len(x_test)} testing examples\")"
   ]
  },
  {
   "cell_type": "markdown",
   "id": "c1630270",
   "metadata": {},
   "source": [
    "## Naive Bayes (Baseline Model)"
   ]
  },
  {
   "cell_type": "markdown",
   "id": "c1a71d16",
   "metadata": {},
   "source": [
    "Pre-processing by:  \n",
    "- remove punctuations (except #)\n",
    "- lowercase all words\n",
    "- removing stopwords\n",
    "- stemming words"
   ]
  },
  {
   "cell_type": "markdown",
   "id": "572318e1",
   "metadata": {},
   "source": [
    "*Note: I will not remove the **#** symbol because it is a predominant part of what makes tweets unique*"
   ]
  },
  {
   "cell_type": "code",
   "execution_count": 20,
   "id": "b5352bd9",
   "metadata": {},
   "outputs": [],
   "source": [
    "stop_words = set(stopwords.words('english'))\n",
    "porter = PorterStemmer()\n",
    "\n",
    "# Remove all puncutation\n",
    "def clean_responses(text):\n",
    "    ### Remove all puncutation\n",
    "    string.punctuation = string.punctuation.replace('#','')\n",
    "    for punctuation in string.punctuation:\n",
    "        text = text.replace(punctuation, '')\n",
    "    \n",
    "    ### Lowercase\n",
    "    text = text.lower()\n",
    "    \n",
    "    ### Removing stop words\n",
    "    filtered_words = []\n",
    "    for word in text.split():\n",
    "        if word not in stop_words:\n",
    "            filtered_words.append(word)\n",
    "            \n",
    "    ### Stemming words\n",
    "    stemmed = [porter.stem(word) for word in filtered_words]\n",
    "                \n",
    "    return ' '.join(stemmed)"
   ]
  },
  {
   "cell_type": "code",
   "execution_count": 21,
   "id": "6e737de1",
   "metadata": {},
   "outputs": [],
   "source": [
    "X_train_NB = train_df['OriginalTweet_no_URL'].apply(clean_responses)\n",
    "y_train_NB = train_df['Sentiment_label']\n",
    "X_test_NB = test_df['OriginalTweet_no_URL'].apply(clean_responses)\n",
    "y_test_NB = test_df['Sentiment_label']"
   ]
  },
  {
   "cell_type": "code",
   "execution_count": 22,
   "id": "ef608dcd",
   "metadata": {
    "scrolled": true
   },
   "outputs": [],
   "source": [
    "model = make_pipeline(TfidfVectorizer(), MultinomialNB())\n",
    "model.fit(X_train_NB, y_train_NB)\n",
    "\n",
    "### Make predictions\n",
    "y_hat = model.predict(X_test_NB)"
   ]
  },
  {
   "cell_type": "markdown",
   "id": "81796671",
   "metadata": {},
   "source": [
    "**Results**"
   ]
  },
  {
   "cell_type": "code",
   "execution_count": 23,
   "id": "e9ffe19b",
   "metadata": {},
   "outputs": [
    {
     "name": "stdout",
     "output_type": "stream",
     "text": [
      "Accuracy: 0.3451816745655608\n"
     ]
    },
    {
     "data": {
      "image/png": "[encoded data removed]",
      "text/plain": [
       "<Figure size 432x288 with 2 Axes>"
      ]
     },
     "metadata": {},
     "output_type": "display_data"
    }
   ],
   "source": [
    "print(\"Accuracy:\", accuracy_score(y_test_NB, y_hat))\n",
    "labels_5 = ['Extremely Negative','Extremely Positive','Negative','Neutral','Positive'] \n",
    "\n",
    "def print_cf1(y_test, y_hat):\n",
    "    cm = confusion_matrix(y_test, y_hat)\n",
    "    sns.set(font_scale = 1.4, color_codes=True, palette=\"deep\")\n",
    "    sns.heatmap(pd.DataFrame(cm, index=labels_5,columns=[0,1,2,3,4]), \n",
    "                annot = True,\n",
    "                annot_kws = {\"size\":16},\n",
    "                fmt=\"d\",\n",
    "                cmap=\"YlGnBu\")\n",
    "    plt.title(\"Confusion Matrix\")\n",
    "    plt.xlabel(\"Predicted Value\")\n",
    "    plt.xticks([0,1,2,3,4], labels_5, rotation=45)\n",
    "    plt.ylabel(\"True Value\")\n",
    "    plt.show()\n",
    "    \n",
    "print_cf1(y_test_NB, y_hat)"
   ]
  },
  {
   "cell_type": "code",
   "execution_count": 24,
   "id": "00673b1c",
   "metadata": {},
   "outputs": [
    {
     "name": "stdout",
     "output_type": "stream",
     "text": [
      "                    precision    recall  f1-score   support\n",
      "\n",
      "Extremely Negative       0.67      0.00      0.01       592\n",
      "Extremely Positive       1.00      0.03      0.06       599\n",
      "          Negative       0.40      0.40      0.40      1041\n",
      "           Neutral       0.82      0.06      0.11       619\n",
      "          Positive       0.31      0.89      0.46       947\n",
      "\n",
      "          accuracy                           0.35      3798\n",
      "         macro avg       0.64      0.28      0.21      3798\n",
      "      weighted avg       0.58      0.35      0.25      3798\n",
      "\n"
     ]
    }
   ],
   "source": [
    "print(classification_report(y_test_NB, y_hat, target_names=labels_5))"
   ]
  },
  {
   "cell_type": "markdown",
   "id": "7ff4bdd7",
   "metadata": {},
   "source": [
    "## DistilBERT"
   ]
  },
  {
   "cell_type": "markdown",
   "id": "0b7a46a8",
   "metadata": {},
   "source": [
    "**Tokenize the Inputs** "
   ]
  },
  {
   "cell_type": "code",
   "execution_count": 25,
   "id": "2d0069b4",
   "metadata": {},
   "outputs": [],
   "source": [
    "tokenizer = DistilBertTokenizer.from_pretrained(MODEL_NAME) # Loading the tokenizer"
   ]
  },
  {
   "cell_type": "markdown",
   "id": "c9b90015",
   "metadata": {},
   "source": [
    "*Finding the max token sequence in the training set*"
   ]
  },
  {
   "cell_type": "code",
   "execution_count": 26,
   "id": "7a7011c7",
   "metadata": {},
   "outputs": [
    {
     "name": "stdout",
     "output_type": "stream",
     "text": [
      "The maximum amount of tokens in the dataset is 232\n"
     ]
    }
   ],
   "source": [
    "max_val = 0\n",
    "for sent in (x_train.tolist() + x_train.tolist() + x_val.tolist()):\n",
    "    try:\n",
    "        sent_tok_len = len(tokenizer.tokenize(sent))\n",
    "        max_val = sent_tok_len if (sent_tok_len > max_val) else max_val\n",
    "    except:\n",
    "        pass\n",
    "    \n",
    "print(f\"The maximum amount of tokens in the dataset is {max_val}\")"
   ]
  },
  {
   "cell_type": "markdown",
   "id": "8b662020",
   "metadata": {},
   "source": [
    "I will set the max length and input for the deep learning model to 234  \n",
    "*(Max token length + 2 for special characters [CLS] and [SEP])*"
   ]
  },
  {
   "cell_type": "code",
   "execution_count": 39,
   "id": "b1df84af",
   "metadata": {},
   "outputs": [],
   "source": [
    "MAX_LENGTH = 234\n",
    "\n",
    "tokenizer = DistilBertTokenizer.from_pretrained(MODEL_NAME,  \n",
    "                                                add_special_tokens=True,\n",
    "                                                max_length=MAX_LENGTH, \n",
    "                                                pad_to_max_length=True)\n",
    "\n",
    "def tokenize(sentences, tokenizer):\n",
    "    input_ids, input_masks, input_segments = [], [], []\n",
    "    for sentence in tqdm(sentences):\n",
    "        inputs = tokenizer.encode_plus(sentence, \n",
    "                                       add_special_tokens=True, \n",
    "                                       max_length=MAX_LENGTH, \n",
    "                                       pad_to_max_length=True, \n",
    "                                       return_attention_mask=True, \n",
    "                                       return_token_type_ids=True, \n",
    "                                       truncation=True)\n",
    "        input_ids.append(inputs['input_ids'])\n",
    "        input_masks.append(inputs['attention_mask'])\n",
    "        input_segments.append(inputs['token_type_ids'])        \n",
    "        \n",
    "    return np.asarray(input_ids, dtype='int32'), np.asarray(input_masks, dtype='int32')"
   ]
  },
  {
   "cell_type": "code",
   "execution_count": 40,
   "id": "29156f79",
   "metadata": {},
   "outputs": [
    {
     "name": "stderr",
     "output_type": "stream",
     "text": [
      "100%|██████████████████████████████████████████████████████████████████████████| 37041/37041 [00:30<00:00, 1211.93it/s]\n",
      "100%|████████████████████████████████████████████████████████████████████████████| 3798/3798 [00:03<00:00, 1088.73it/s]\n",
      "100%|████████████████████████████████████████████████████████████████████████████| 4116/4116 [00:03<00:00, 1285.07it/s]\n"
     ]
    }
   ],
   "source": [
    "X_train = tokenize(x_train, tokenizer)\n",
    "X_test = tokenize(x_test, tokenizer)\n",
    "X_val = tokenize(x_val, tokenizer)"
   ]
  },
  {
   "cell_type": "markdown",
   "id": "9f9676c1",
   "metadata": {},
   "source": [
    "**Looking at entry**"
   ]
  },
  {
   "cell_type": "code",
   "execution_count": 29,
   "id": "317d701c",
   "metadata": {
    "scrolled": false
   },
   "outputs": [
    {
     "name": "stdout",
     "output_type": "stream",
     "text": [
      "Positive \n",
      "\n",
      "As news of the regions first confirmed COVID-19 case came out of Sullivan County last week, people flocked to area stores to purchase cleaning supplies, hand sanitizer, food, toilet paper and other goods, @Tim_Dodson reports  \n",
      "\n",
      "ID's\tInput Tokens\n",
      "101\t[CLS]\n",
      "1249\tAs\n",
      "2371\tnews\n",
      "1104\tof\n",
      "1103\tthe\n",
      "4001\tregions\n",
      "1148\tfirst\n",
      "3659\tconfirmed\n",
      "18732\tCO\n",
      "23314\t##VI\n",
      "2137\t##D\n",
      "118\t-\n",
      "1627\t19\n",
      "1692\tcase\n",
      "1338\tcame\n",
      "1149\tout\n",
      "1104\tof\n",
      "7124\tSullivan\n",
      "1391\tCounty\n",
      "1314\tlast\n",
      "1989\tweek\n",
      "117\t,\n",
      "1234\tpeople\n",
      "24117\tflock\n",
      "1174\t##ed\n",
      "1106\tto\n",
      "1298\tarea\n",
      "4822\tstores\n",
      "1106\tto\n",
      "4779\tpurchase\n",
      "9374\tcleaning\n",
      "5508\tsupplies\n",
      "117\t,\n",
      "1289\thand\n",
      "21718\tsa\n",
      "2605\t##ni\n",
      "3121\t##ti\n",
      "6198\t##zer\n",
      "117\t,\n",
      "2094\tfood\n",
      "117\t,\n",
      "12356\ttoilet\n",
      "2526\tpaper\n",
      "1105\tand\n",
      "1168\tother\n",
      "4817\tgoods\n",
      "117\t,\n",
      "137\t@\n",
      "4446\tTim\n",
      "168\t_\n",
      "2091\tDo\n",
      "21369\t##dson\n",
      "3756\treports\n",
      "102\t[SEP]\n"
     ]
    }
   ],
   "source": [
    "index_num = 5\n",
    "\n",
    "print(train_df.loc[index_num]['Sentiment'], '\\n')\n",
    "\n",
    "print(x_train[index_num], '\\n')\n",
    "\n",
    "temp_tokens = tokenizer.tokenize(x_train[index_num])\n",
    "temp_ids = tokenizer.encode(x_train[index_num])\n",
    "\n",
    "print('ID\\'s', 'Input Tokens', sep='\\t')\n",
    "for i in range(len(temp_ids)):\n",
    "    if i == 0:\n",
    "        print(temp_ids[i], '[CLS]', sep='\\t')\n",
    "        continue\n",
    "    if i == len(temp_ids)-1:\n",
    "        print(temp_ids[i], '[SEP]', sep='\\t')\n",
    "        break\n",
    "    print(temp_ids[i], temp_tokens[i-1], sep='\\t')"
   ]
  },
  {
   "cell_type": "markdown",
   "id": "ff836804",
   "metadata": {},
   "source": [
    "### Creating the model"
   ]
  },
  {
   "cell_type": "code",
   "execution_count": 33,
   "id": "e14727c9",
   "metadata": {},
   "outputs": [
    {
     "name": "stdout",
     "output_type": "stream",
     "text": [
      "WARNING:tensorflow:The parameters `output_attentions`, `output_hidden_states` and `use_cache` cannot be updated when calling a model.They have to be set to True/False in the config object (i.e.: `config=XConfig.from_pretrained('name', output_attentions=True)`).\n",
      "WARNING:tensorflow:The parameter `return_dict` cannot be set in graph mode and will always be set to `True`.\n",
      "Model: \"model_1\"\n",
      "__________________________________________________________________________________________________\n",
      "Layer (type)                    Output Shape         Param #     Connected to                     \n",
      "==================================================================================================\n",
      "input_token (InputLayer)        [(None, 234)]        0                                            \n",
      "__________________________________________________________________________________________________\n",
      "masked_token (InputLayer)       [(None, 234)]        0                                            \n",
      "__________________________________________________________________________________________________\n",
      "tf_distil_bert_model_1 (TFDisti TFBaseModelOutput(la 65190912    input_token[0][0]                \n",
      "                                                                 masked_token[0][0]               \n",
      "__________________________________________________________________________________________________\n",
      "bidirectional_1 (Bidirectional) (None, 234, 256)     918528      tf_distil_bert_model_1[0][13]    \n",
      "__________________________________________________________________________________________________\n",
      "global_max_pooling1d_1 (GlobalM (None, 256)          0           bidirectional_1[0][0]            \n",
      "__________________________________________________________________________________________________\n",
      "dense_2 (Dense)                 (None, 64)           16448       global_max_pooling1d_1[0][0]     \n",
      "__________________________________________________________________________________________________\n",
      "dropout_39 (Dropout)            (None, 64)           0           dense_2[0][0]                    \n",
      "__________________________________________________________________________________________________\n",
      "dense_3 (Dense)                 (None, 5)            325         dropout_39[0][0]                 \n",
      "==================================================================================================\n",
      "Total params: 66,126,213\n",
      "Trainable params: 935,301\n",
      "Non-trainable params: 65,190,912\n",
      "__________________________________________________________________________________________________\n"
     ]
    }
   ],
   "source": [
    "config = DistilBertConfig.from_pretrained(MODEL_NAME, output_hidden_states=True, output_attentions=True)\n",
    "DistilBERT = TFDistilBertModel.from_pretrained(MODEL_NAME, config=config)\n",
    "\n",
    "input_ids_in = tf.keras.layers.Input(shape=(MAX_LENGTH,), name='input_token', dtype='int32')\n",
    "input_masks_in = tf.keras.layers.Input(shape=(MAX_LENGTH,), name='masked_token', dtype='int32') \n",
    "\n",
    "embedding_layer = DistilBERT(input_ids = input_ids_in, attention_mask = input_masks_in)[0]\n",
    "X = tf.keras.layers.Bidirectional(tf.keras.layers.LSTM(128, return_sequences=True))(embedding_layer)\n",
    "X = tf.keras.layers.GlobalMaxPool1D()(X)\n",
    "X = tf.keras.layers.Dense(64, activation='relu')(X)\n",
    "X = tf.keras.layers.Dropout(0.2)(X)\n",
    "X = tf.keras.layers.Dense(5, activation='softmax')(X)\n",
    "\n",
    "model = tf.keras.Model(inputs=[input_ids_in, input_masks_in], outputs = X)\n",
    "\n",
    "for layer in model.layers[:3]:\n",
    "    layer.trainable = False\n",
    "\n",
    "model.summary()"
   ]
  },
  {
   "cell_type": "markdown",
   "id": "1ec73dae",
   "metadata": {},
   "source": [
    "*Creating a output directory to store the models weights*"
   ]
  },
  {
   "cell_type": "code",
   "execution_count": 34,
   "id": "31c8f760",
   "metadata": {},
   "outputs": [],
   "source": [
    "### Create an output directory\n",
    "output_dir = './model1_outputs'\n",
    "if not os.path.exists(output_dir): ### If the file directory doesn't already exists,\n",
    "    os.makedirs(output_dir) ### Make it please"
   ]
  },
  {
   "cell_type": "markdown",
   "id": "f202c582",
   "metadata": {},
   "source": [
    "*Callbacks*"
   ]
  },
  {
   "cell_type": "code",
   "execution_count": 35,
   "id": "69f6bb9b",
   "metadata": {},
   "outputs": [],
   "source": [
    "model_checkpoint = ModelCheckpoint(filepath=output_dir+'/weights.{epoch:02d}.hdf5',\n",
    "                                  save_weights_only=True)\n",
    "\n",
    "early_stopping = EarlyStopping(patience=3, # Stop after 3 epochs of no improvement\n",
    "                               monitor='val_loss', # Look at validation_loss\n",
    "                               min_delta=0, # After 0 change\n",
    "                               mode='min', # Stop when quantity has stopped decreasing\n",
    "                               restore_best_weights=False, # Don't Restore the best weights\n",
    "                               verbose=1) \n",
    "\n",
    "reduce_lr = ReduceLROnPlateau(monitor='val_loss', # Look at validation loss\n",
    "                              min_lr=0.000001, # Lower bound of learning rate\n",
    "                              patience=1, # Reduce after 1 with little change\n",
    "                              mode='min', # Stop when quantity has stopped decreasing\n",
    "                              factor=0.1, # Reduce by a factor of 1/10\n",
    "                              min_delta=0.01, # Minimumn change needed\n",
    "                              verbose=1)"
   ]
  },
  {
   "cell_type": "markdown",
   "id": "7d65a407",
   "metadata": {},
   "source": [
    "**Compile and train**"
   ]
  },
  {
   "cell_type": "code",
   "execution_count": 42,
   "id": "aa02f04f",
   "metadata": {},
   "outputs": [
    {
     "name": "stdout",
     "output_type": "stream",
     "text": [
      "Epoch 1/10\n",
      "WARNING:tensorflow:The parameters `output_attentions`, `output_hidden_states` and `use_cache` cannot be updated when calling a model.They have to be set to True/False in the config object (i.e.: `config=XConfig.from_pretrained('name', output_attentions=True)`).\n",
      "WARNING:tensorflow:The parameter `return_dict` cannot be set in graph mode and will always be set to `True`.\n",
      "WARNING:tensorflow:The parameters `output_attentions`, `output_hidden_states` and `use_cache` cannot be updated when calling a model.They have to be set to True/False in the config object (i.e.: `config=XConfig.from_pretrained('name', output_attentions=True)`).\n",
      "WARNING:tensorflow:The parameter `return_dict` cannot be set in graph mode and will always be set to `True`.\n",
      "2316/2316 [==============================] - ETA: 0s - loss: 1.3571 - accuracy: 0.4026WARNING:tensorflow:The parameters `output_attentions`, `output_hidden_states` and `use_cache` cannot be updated when calling a model.They have to be set to True/False in the config object (i.e.: `config=XConfig.from_pretrained('name', output_attentions=True)`).\n",
      "WARNING:tensorflow:The parameter `return_dict` cannot be set in graph mode and will always be set to `True`.\n",
      "2316/2316 [==============================] - 588s 250ms/step - loss: 1.3570 - accuracy: 0.4026 - val_loss: 1.0693 - val_accuracy: 0.5474\n",
      "Epoch 2/10\n",
      "2316/2316 [==============================] - 576s 249ms/step - loss: 1.0445 - accuracy: 0.5642 - val_loss: 0.9584 - val_accuracy: 0.6178\n",
      "Epoch 3/10\n",
      "2316/2316 [==============================] - 574s 248ms/step - loss: 0.9503 - accuracy: 0.6111 - val_loss: 0.9372 - val_accuracy: 0.6110\n",
      "Epoch 4/10\n",
      "2316/2316 [==============================] - 575s 248ms/step - loss: 0.8734 - accuracy: 0.6451 - val_loss: 0.9340 - val_accuracy: 0.6370\n",
      "\n",
      "Epoch 00004: ReduceLROnPlateau reducing learning rate to 0.00010000000474974513.\n",
      "Epoch 5/10\n",
      "2316/2316 [==============================] - 574s 248ms/step - loss: 0.7637 - accuracy: 0.6975 - val_loss: 0.8732 - val_accuracy: 0.6579\n",
      "Epoch 6/10\n",
      "2316/2316 [==============================] - 577s 249ms/step - loss: 0.7168 - accuracy: 0.7183 - val_loss: 0.8726 - val_accuracy: 0.6545\n",
      "\n",
      "Epoch 00006: ReduceLROnPlateau reducing learning rate to 1.0000000474974514e-05.\n",
      "Epoch 7/10\n",
      "2316/2316 [==============================] - 580s 251ms/step - loss: 0.6984 - accuracy: 0.7281 - val_loss: 0.8737 - val_accuracy: 0.6535\n",
      "\n",
      "Epoch 00007: ReduceLROnPlateau reducing learning rate to 1.0000000656873453e-06.\n",
      "Epoch 8/10\n",
      "2316/2316 [==============================] - 579s 250ms/step - loss: 0.6852 - accuracy: 0.7343 - val_loss: 0.8739 - val_accuracy: 0.6543\n",
      "\n",
      "Epoch 00008: ReduceLROnPlateau reducing learning rate to 1e-06.\n",
      "Epoch 9/10\n",
      "2316/2316 [==============================] - 577s 249ms/step - loss: 0.6858 - accuracy: 0.7358 - val_loss: 0.8739 - val_accuracy: 0.6543\n",
      "Epoch 00009: early stopping\n"
     ]
    }
   ],
   "source": [
    "model.compile(loss='sparse_categorical_crossentropy', optimizer='adam', metrics=['accuracy'])\n",
    "\n",
    "history = model.fit(X_train, \n",
    "                    y_train, \n",
    "                    epochs = 10,\n",
    "                    batch_size=16, \n",
    "                    validation_data=(X_val, y_val), \n",
    "                    callbacks=[model_checkpoint, early_stopping, reduce_lr])"
   ]
  },
  {
   "cell_type": "markdown",
   "id": "124050cd",
   "metadata": {},
   "source": [
    "Plotting the training accuracy and loss"
   ]
  },
  {
   "cell_type": "code",
   "execution_count": 43,
   "id": "e44380fc",
   "metadata": {},
   "outputs": [
    {
     "name": "stdout",
     "output_type": "stream",
     "text": [
      "Lowest Validation Loss: epoch 6\n",
      "Highest Validation Accuracy: epoch 5\n"
     ]
    },
    {
     "data": {
      "image/png": "[encoded data removed]",
      "text/plain": [
       "<Figure size 864x360 with 2 Axes>"
      ]
     },
     "metadata": {},
     "output_type": "display_data"
    }
   ],
   "source": [
    "def plot_history(history):\n",
    "    acc = history.history['accuracy']\n",
    "    val_acc = history.history['val_accuracy']\n",
    "    loss = history.history['loss']\n",
    "    val_loss = history.history['val_loss']\n",
    "    x = range(1, len(acc) + 1)\n",
    "\n",
    "    plt.figure(figsize=(12, 5))\n",
    "    plt.subplot(1, 2, 1)\n",
    "    plt.plot(x, acc, 'b', label='Training acc')\n",
    "    plt.plot(x, val_acc, 'r', label='Validation acc')\n",
    "    plt.title('Training and validation accuracy')\n",
    "    plt.legend()\n",
    "    plt.subplot(1, 2, 2)\n",
    "    plt.plot(x, loss, 'b', label='Training loss')\n",
    "    plt.plot(x, val_loss, 'r', label='Validation loss')\n",
    "    plt.title('Training and validation loss')\n",
    "    plt.legend()\n",
    "    print(\"Lowest Validation Loss: epoch {}\".format(np.argmin(val_loss)+1))\n",
    "    print(\"Highest Validation Accuracy: epoch {}\".format(np.argmax(val_acc)+1))\n",
    "\n",
    "plot_history(history)"
   ]
  },
  {
   "cell_type": "markdown",
   "id": "68d81661",
   "metadata": {},
   "source": [
    "Loading the model with the best validation accuracy"
   ]
  },
  {
   "cell_type": "code",
   "execution_count": 44,
   "id": "3e5f9e2c",
   "metadata": {},
   "outputs": [],
   "source": [
    "def get_min_val_loss_epoch(history):\n",
    "    return \"0\"+str(np.argmin(history.history['val_loss'])+1)\n",
    "\n",
    "def get_max_val_acc_epoch(history):\n",
    "    return \"0\"+str(np.argmax(history.history['val_accuracy'])+1)"
   ]
  },
  {
   "cell_type": "code",
   "execution_count": 45,
   "id": "bb45c79f",
   "metadata": {},
   "outputs": [],
   "source": [
    "epoch_num = get_max_val_acc_epoch(history)\n",
    "model.load_weights(output_dir+\"/weights.\"+epoch_num+\".hdf5\") # Load in model weights"
   ]
  },
  {
   "cell_type": "markdown",
   "id": "8ad1f61c",
   "metadata": {},
   "source": [
    "**Making inference on the test data**"
   ]
  },
  {
   "cell_type": "code",
   "execution_count": 46,
   "id": "aaf8917e",
   "metadata": {},
   "outputs": [
    {
     "name": "stdout",
     "output_type": "stream",
     "text": [
      "WARNING:tensorflow:The parameters `output_attentions`, `output_hidden_states` and `use_cache` cannot be updated when calling a model.They have to be set to True/False in the config object (i.e.: `config=XConfig.from_pretrained('name', output_attentions=True)`).\n",
      "WARNING:tensorflow:The parameter `return_dict` cannot be set in graph mode and will always be set to `True`.\n"
     ]
    }
   ],
   "source": [
    "y_test_probs = model.predict(X_test)\n",
    "\n",
    "# Turn probabilities into an interger prediction\n",
    "y_hat = []\n",
    "for prob in y_test_probs:\n",
    "    y_hat.append(np.argmax(prob))"
   ]
  },
  {
   "cell_type": "markdown",
   "id": "d51c6ea7",
   "metadata": {},
   "source": [
    "**Results**"
   ]
  },
  {
   "cell_type": "code",
   "execution_count": 47,
   "id": "e79eeca9",
   "metadata": {},
   "outputs": [
    {
     "name": "stdout",
     "output_type": "stream",
     "text": [
      "Accuracy: 0.6463928383359663\n"
     ]
    },
    {
     "data": {
      "image/png": "[encoded data removed]",
      "text/plain": [
       "<Figure size 432x288 with 2 Axes>"
      ]
     },
     "metadata": {},
     "output_type": "display_data"
    }
   ],
   "source": [
    "print(\"Accuracy:\", accuracy_score(y_test, y_hat))\n",
    "print_cf1(y_test, y_hat)"
   ]
  },
  {
   "cell_type": "code",
   "execution_count": 48,
   "id": "dd8c05b6",
   "metadata": {},
   "outputs": [
    {
     "name": "stdout",
     "output_type": "stream",
     "text": [
      "                    precision    recall  f1-score   support\n",
      "\n",
      "Extremely Negative       0.71      0.66      0.68       592\n",
      "Extremely Positive       0.75      0.60      0.67       599\n",
      "          Negative       0.59      0.66      0.62      1041\n",
      "           Neutral       0.75      0.70      0.72       619\n",
      "          Positive       0.57      0.61      0.59       947\n",
      "\n",
      "          accuracy                           0.65      3798\n",
      "         macro avg       0.67      0.65      0.66      3798\n",
      "      weighted avg       0.66      0.65      0.65      3798\n",
      "\n"
     ]
    }
   ],
   "source": [
    "print(classification_report(y_test, y_hat, target_names=labels_5))"
   ]
  },
  {
   "cell_type": "markdown",
   "id": "ba1225ab",
   "metadata": {},
   "source": [
    "## Combining Labels and Re-Running"
   ]
  },
  {
   "cell_type": "code",
   "execution_count": 49,
   "id": "e0b4872a",
   "metadata": {},
   "outputs": [
    {
     "name": "stdout",
     "output_type": "stream",
     "text": [
      "0 Negative\n",
      "1 Neutral\n",
      "2 Positive\n"
     ]
    }
   ],
   "source": [
    "def combining_labels(row):\n",
    "    if row in 'Extremely Positive':        \n",
    "        return 'Positive' \n",
    "    if row in 'Extremely Negative':\n",
    "        return 'Negative'\n",
    "    return row\n",
    "\n",
    "### Combining Labels\n",
    "train_df['Simple_Sentiment'] = train_df['Sentiment'].apply(combining_labels)\n",
    "test_df['Simple_Sentiment'] = test_df['Sentiment'].apply(combining_labels)\n",
    "\n",
    "### Encoding the labels\n",
    "le = LabelEncoder()\n",
    "train_df['Simple_Sentiment_label'] = le.fit_transform(train_df['Simple_Sentiment'])\n",
    "test_df['Simple_Sentiment_label'] = le.transform(test_df['Simple_Sentiment'])\n",
    "\n",
    "label_dict = (test_df[['Simple_Sentiment','Simple_Sentiment_label']].drop_duplicates()\n",
    "              .sort_values(by='Simple_Sentiment_label')\n",
    "              .reset_index(drop=True)['Simple_Sentiment']\n",
    "              .to_dict())\n",
    "\n",
    "for index, key in label_dict.items():\n",
    "    print(index, key)"
   ]
  },
  {
   "cell_type": "code",
   "execution_count": 50,
   "id": "1b2d28fe",
   "metadata": {},
   "outputs": [
    {
     "data": {
      "image/png": "[encoded data removed]",
      "text/plain": [
       "<Figure size 720x360 with 2 Axes>"
      ]
     },
     "metadata": {},
     "output_type": "display_data"
    }
   ],
   "source": [
    "reorder_labels = [2,1,0]\n",
    "reorder = ['Positive', 'Neutral', 'Negative']\n",
    "\n",
    "fig, axes = plt.subplots(1,2 , figsize=(10,5))\n",
    "\n",
    "train_df.value_counts('Simple_Sentiment_label').reindex(index=reorder_labels).plot(kind='bar', ax=axes[0])\n",
    "plt.sca(axes[0])\n",
    "plt.xticks(reorder_labels, reorder, rotation=45, horizontalalignment='right')\n",
    "plt.title('Training Dataset')\n",
    "plt.ylabel('Counts')\n",
    "plt.xlabel('Label')\n",
    "\n",
    "test_df.value_counts('Simple_Sentiment_label').reindex(index=reorder_labels).plot(kind='bar', ax=axes[1])\n",
    "plt.sca(axes[1])\n",
    "plt.xticks(reorder_labels, reorder, rotation=45, horizontalalignment='right')\n",
    "plt.title('Testing Dataset')\n",
    "plt.xlabel('Label');"
   ]
  },
  {
   "cell_type": "markdown",
   "id": "06ad3e24",
   "metadata": {},
   "source": [
    "Splitting datasets"
   ]
  },
  {
   "cell_type": "code",
   "execution_count": 51,
   "id": "9c1bdd5b",
   "metadata": {},
   "outputs": [
    {
     "name": "stdout",
     "output_type": "stream",
     "text": [
      "37041 training examples\n",
      "4116 validation examples\n",
      "3798 testing examples\n"
     ]
    }
   ],
   "source": [
    "### Only need to modify the labels\n",
    "y_train = train_df['Simple_Sentiment_label'][:num_train_samples]\n",
    "y_val = train_df['Simple_Sentiment_label'][num_train_samples:]\n",
    "y_test = test_df['Simple_Sentiment_label']\n",
    "\n",
    "print(f\"{len(y_train)} training examples\\n{len(y_val)} validation examples\")\n",
    "print(f\"{len(y_test)} testing examples\")"
   ]
  },
  {
   "cell_type": "markdown",
   "id": "60439187",
   "metadata": {},
   "source": [
    "### Naive Bayes (Baseline)"
   ]
  },
  {
   "cell_type": "code",
   "execution_count": 52,
   "id": "b9177dcb",
   "metadata": {},
   "outputs": [],
   "source": [
    "y_train_NB = train_df['Simple_Sentiment_label']\n",
    "y_test_NB = test_df['Simple_Sentiment_label']"
   ]
  },
  {
   "cell_type": "code",
   "execution_count": 53,
   "id": "9a9d0559",
   "metadata": {},
   "outputs": [],
   "source": [
    "model = make_pipeline(TfidfVectorizer(), MultinomialNB())\n",
    "model.fit(X_train_NB, y_train_NB)\n",
    "\n",
    "### Make predictions\n",
    "y_hat = model.predict(X_test_NB)"
   ]
  },
  {
   "cell_type": "markdown",
   "id": "472d46a6",
   "metadata": {},
   "source": [
    "**Results**"
   ]
  },
  {
   "cell_type": "code",
   "execution_count": 54,
   "id": "2241f468",
   "metadata": {},
   "outputs": [
    {
     "name": "stdout",
     "output_type": "stream",
     "text": [
      "Accuracy: 0.6313849394418115\n"
     ]
    },
    {
     "data": {
      "image/png": "[encoded data removed]",
      "text/plain": [
       "<Figure size 432x288 with 2 Axes>"
      ]
     },
     "metadata": {},
     "output_type": "display_data"
    }
   ],
   "source": [
    "print(\"Accuracy:\", accuracy_score(y_test_NB, y_hat))\n",
    "labels_3 = ['Negative','Neutral','Positive'] \n",
    "\n",
    "def print_cf2(y_test, y_hat):\n",
    "    cm = confusion_matrix(y_test, y_hat)\n",
    "    sns.set(font_scale = 1.4, color_codes=True, palette=\"deep\")\n",
    "    sns.heatmap(pd.DataFrame(cm, index=labels_3,columns=[0,1,2]), \n",
    "                annot = True,\n",
    "                annot_kws = {\"size\":16},\n",
    "                fmt=\"d\",\n",
    "                cmap=\"YlGnBu\")\n",
    "    plt.title(\"Confusion Matrix\")\n",
    "    plt.xlabel(\"Predicted Value\")\n",
    "    plt.xticks([0,1,2], labels_3, rotation=45)\n",
    "    plt.ylabel(\"True Value\")\n",
    "    plt.show()\n",
    "    \n",
    "print_cf2(y_test_NB, y_hat)"
   ]
  },
  {
   "cell_type": "code",
   "execution_count": 55,
   "id": "5e5fa034",
   "metadata": {},
   "outputs": [
    {
     "name": "stdout",
     "output_type": "stream",
     "text": [
      "              precision    recall  f1-score   support\n",
      "\n",
      "    Negative       0.76      0.62      0.68      1633\n",
      "     Neutral       0.75      0.00      0.01       619\n",
      "    Positive       0.56      0.89      0.69      1546\n",
      "\n",
      "    accuracy                           0.63      3798\n",
      "   macro avg       0.69      0.51      0.46      3798\n",
      "weighted avg       0.68      0.63      0.58      3798\n",
      "\n"
     ]
    }
   ],
   "source": [
    "print(classification_report(y_test_NB, y_hat, target_names=labels_3))"
   ]
  },
  {
   "cell_type": "markdown",
   "id": "4df8a48b",
   "metadata": {},
   "source": [
    "Our baseline to beat is **63% accuracy** in our predictions"
   ]
  },
  {
   "cell_type": "markdown",
   "id": "80af2a33",
   "metadata": {},
   "source": [
    "## DistilBERT"
   ]
  },
  {
   "cell_type": "markdown",
   "id": "c7088a63",
   "metadata": {},
   "source": [
    "### Creating the model"
   ]
  },
  {
   "cell_type": "code",
   "execution_count": 56,
   "id": "2403b26f",
   "metadata": {
    "scrolled": false
   },
   "outputs": [
    {
     "name": "stdout",
     "output_type": "stream",
     "text": [
      "WARNING:tensorflow:The parameters `output_attentions`, `output_hidden_states` and `use_cache` cannot be updated when calling a model.They have to be set to True/False in the config object (i.e.: `config=XConfig.from_pretrained('name', output_attentions=True)`).\n",
      "WARNING:tensorflow:The parameter `return_dict` cannot be set in graph mode and will always be set to `True`.\n",
      "Model: \"model_2\"\n",
      "__________________________________________________________________________________________________\n",
      "Layer (type)                    Output Shape         Param #     Connected to                     \n",
      "==================================================================================================\n",
      "input_token (InputLayer)        [(None, 234)]        0                                            \n",
      "__________________________________________________________________________________________________\n",
      "masked_token (InputLayer)       [(None, 234)]        0                                            \n",
      "__________________________________________________________________________________________________\n",
      "tf_distil_bert_model_2 (TFDisti TFBaseModelOutput(la 65190912    input_token[0][0]                \n",
      "                                                                 masked_token[0][0]               \n",
      "__________________________________________________________________________________________________\n",
      "bidirectional_2 (Bidirectional) (None, 234, 256)     918528      tf_distil_bert_model_2[0][13]    \n",
      "__________________________________________________________________________________________________\n",
      "global_max_pooling1d_2 (GlobalM (None, 256)          0           bidirectional_2[0][0]            \n",
      "__________________________________________________________________________________________________\n",
      "dense_4 (Dense)                 (None, 64)           16448       global_max_pooling1d_2[0][0]     \n",
      "__________________________________________________________________________________________________\n",
      "dropout_59 (Dropout)            (None, 64)           0           dense_4[0][0]                    \n",
      "__________________________________________________________________________________________________\n",
      "dense_5 (Dense)                 (None, 3)            195         dropout_59[0][0]                 \n",
      "==================================================================================================\n",
      "Total params: 66,126,083\n",
      "Trainable params: 935,171\n",
      "Non-trainable params: 65,190,912\n",
      "__________________________________________________________________________________________________\n"
     ]
    }
   ],
   "source": [
    "config = DistilBertConfig.from_pretrained(MODEL_NAME, output_hidden_states=True, output_attentions=True, return_dict=True)\n",
    "DistilBERT = TFDistilBertModel.from_pretrained(MODEL_NAME, config=config)\n",
    "\n",
    "input_ids_in = tf.keras.layers.Input(shape=(MAX_LENGTH,), name='input_token', dtype='int32')\n",
    "attention_mask_in = tf.keras.layers.Input(shape=(MAX_LENGTH,), name='masked_token', dtype='int32') \n",
    "\n",
    "embedding_layer = DistilBERT(input_ids = input_ids_in, attention_mask = attention_mask_in)[0]\n",
    "X = tf.keras.layers.Bidirectional(tf.keras.layers.LSTM(128, return_sequences=True))(embedding_layer)\n",
    "X = tf.keras.layers.GlobalMaxPool1D()(X)\n",
    "X = tf.keras.layers.Dense(64, activation='relu')(X)\n",
    "X = tf.keras.layers.Dropout(0.2)(X)\n",
    "X = tf.keras.layers.Dense(3, activation='softmax')(X)\n",
    "\n",
    "model = tf.keras.Model(inputs=[input_ids_in, attention_mask_in], outputs = X)\n",
    "\n",
    "for layer in model.layers[:3]:\n",
    "    layer.trainable = False\n",
    "\n",
    "model.summary()"
   ]
  },
  {
   "cell_type": "markdown",
   "id": "73cba7b4",
   "metadata": {},
   "source": [
    "*Creating a new output director to store the models weights*"
   ]
  },
  {
   "cell_type": "code",
   "execution_count": 57,
   "id": "d5892bc1",
   "metadata": {},
   "outputs": [],
   "source": [
    "### Create an output directory\n",
    "output_dir = './model2_outputs'\n",
    "if not os.path.exists(output_dir): ### If the file directory doesn't already exists,\n",
    "    os.makedirs(output_dir) ### Make it please"
   ]
  },
  {
   "cell_type": "markdown",
   "id": "b3740f97",
   "metadata": {},
   "source": [
    "**Compile and train**"
   ]
  },
  {
   "cell_type": "code",
   "execution_count": 58,
   "id": "4ae48dc1",
   "metadata": {},
   "outputs": [
    {
     "name": "stdout",
     "output_type": "stream",
     "text": [
      "Epoch 1/10\n",
      "WARNING:tensorflow:The parameters `output_attentions`, `output_hidden_states` and `use_cache` cannot be updated when calling a model.They have to be set to True/False in the config object (i.e.: `config=XConfig.from_pretrained('name', output_attentions=True)`).\n",
      "WARNING:tensorflow:The parameter `return_dict` cannot be set in graph mode and will always be set to `True`.\n",
      "WARNING:tensorflow:The parameters `output_attentions`, `output_hidden_states` and `use_cache` cannot be updated when calling a model.They have to be set to True/False in the config object (i.e.: `config=XConfig.from_pretrained('name', output_attentions=True)`).\n",
      "WARNING:tensorflow:The parameter `return_dict` cannot be set in graph mode and will always be set to `True`.\n",
      "2315/2316 [============================>.] - ETA: 0s - loss: 0.8405 - accuracy: 0.6146WARNING:tensorflow:The parameters `output_attentions`, `output_hidden_states` and `use_cache` cannot be updated when calling a model.They have to be set to True/False in the config object (i.e.: `config=XConfig.from_pretrained('name', output_attentions=True)`).\n",
      "WARNING:tensorflow:The parameter `return_dict` cannot be set in graph mode and will always be set to `True`.\n",
      "2316/2316 [==============================] - 584s 249ms/step - loss: 0.8404 - accuracy: 0.6146 - val_loss: 0.6429 - val_accuracy: 0.7257\n",
      "Epoch 2/10\n",
      "2316/2316 [==============================] - 573s 247ms/step - loss: 0.6204 - accuracy: 0.7489 - val_loss: 0.5740 - val_accuracy: 0.7672\n",
      "Epoch 3/10\n",
      "2316/2316 [==============================] - 573s 248ms/step - loss: 0.5433 - accuracy: 0.7871 - val_loss: 0.5487 - val_accuracy: 0.7845\n",
      "Epoch 4/10\n",
      "2316/2316 [==============================] - 572s 247ms/step - loss: 0.4776 - accuracy: 0.8140 - val_loss: 0.5372 - val_accuracy: 0.7884\n",
      "Epoch 5/10\n",
      "2316/2316 [==============================] - 562s 243ms/step - loss: 0.4314 - accuracy: 0.8370 - val_loss: 0.5380 - val_accuracy: 0.7886\n",
      "\n",
      "Epoch 00005: ReduceLROnPlateau reducing learning rate to 0.00010000000474974513.\n",
      "Epoch 6/10\n",
      "2316/2316 [==============================] - 560s 242ms/step - loss: 0.3564 - accuracy: 0.8704 - val_loss: 0.5517 - val_accuracy: 0.7952\n",
      "\n",
      "Epoch 00006: ReduceLROnPlateau reducing learning rate to 1.0000000474974514e-05.\n",
      "Epoch 7/10\n",
      "2316/2316 [==============================] - 560s 242ms/step - loss: 0.3144 - accuracy: 0.8854 - val_loss: 0.5557 - val_accuracy: 0.7952\n",
      "\n",
      "Epoch 00007: ReduceLROnPlateau reducing learning rate to 1.0000000656873453e-06.\n",
      "Epoch 00007: early stopping\n"
     ]
    }
   ],
   "source": [
    "model.compile(loss='sparse_categorical_crossentropy', optimizer='adam', metrics=['accuracy'])\n",
    "\n",
    "history = model.fit(X_train, \n",
    "                    y_train, \n",
    "                    epochs = 10,\n",
    "                    batch_size=16, \n",
    "                    validation_data=(X_val, y_val), \n",
    "                    callbacks=[model_checkpoint, early_stopping, reduce_lr])"
   ]
  },
  {
   "cell_type": "markdown",
   "id": "70c1a840",
   "metadata": {},
   "source": [
    "Plotting the training accuracy and loss"
   ]
  },
  {
   "cell_type": "code",
   "execution_count": 59,
   "id": "d8c5332b",
   "metadata": {},
   "outputs": [
    {
     "name": "stdout",
     "output_type": "stream",
     "text": [
      "Lowest Validation Loss: epoch 4\n",
      "Highest Validation Accuracy: epoch 6\n"
     ]
    },
    {
     "data": {
      "image/png": "[encoded data removed]",
      "text/plain": [
       "<Figure size 864x360 with 2 Axes>"
      ]
     },
     "metadata": {},
     "output_type": "display_data"
    }
   ],
   "source": [
    "plot_history(history)"
   ]
  },
  {
   "cell_type": "markdown",
   "id": "e6c061f5",
   "metadata": {},
   "source": [
    "Loading the model weights with the best validation accuracy"
   ]
  },
  {
   "cell_type": "code",
   "execution_count": 60,
   "id": "6976f32e",
   "metadata": {},
   "outputs": [],
   "source": [
    "epoch_num = get_max_val_acc_epoch(history)\n",
    "model.load_weights(output_dir+\"/weights.\"+epoch_num+\".hdf5\") # Load in model weights"
   ]
  },
  {
   "cell_type": "markdown",
   "id": "da397e6b",
   "metadata": {},
   "source": [
    "**Making Inference**"
   ]
  },
  {
   "cell_type": "code",
   "execution_count": 61,
   "id": "6c25a437",
   "metadata": {},
   "outputs": [
    {
     "name": "stdout",
     "output_type": "stream",
     "text": [
      "WARNING:tensorflow:The parameters `output_attentions`, `output_hidden_states` and `use_cache` cannot be updated when calling a model.They have to be set to True/False in the config object (i.e.: `config=XConfig.from_pretrained('name', output_attentions=True)`).\n",
      "WARNING:tensorflow:The parameter `return_dict` cannot be set in graph mode and will always be set to `True`.\n"
     ]
    }
   ],
   "source": [
    "y_test_probs = model.predict(X_test)\n",
    "\n",
    "# Turn probabilities into an interger prediction\n",
    "y_hat = []\n",
    "for prob in y_test_probs:\n",
    "    y_hat.append(np.argmax(prob))"
   ]
  },
  {
   "cell_type": "markdown",
   "id": "c04ff466",
   "metadata": {},
   "source": [
    "**Results**"
   ]
  },
  {
   "cell_type": "code",
   "execution_count": 62,
   "id": "2177e936",
   "metadata": {},
   "outputs": [
    {
     "name": "stdout",
     "output_type": "stream",
     "text": [
      "Accuracy: 0.7933122696155871\n"
     ]
    },
    {
     "data": {
      "image/png": "[encoded data removed]",
      "text/plain": [
       "<Figure size 432x288 with 2 Axes>"
      ]
     },
     "metadata": {},
     "output_type": "display_data"
    }
   ],
   "source": [
    "print(\"Accuracy:\", accuracy_score(y_test, y_hat))\n",
    "print_cf2(y_test, y_hat)"
   ]
  },
  {
   "cell_type": "code",
   "execution_count": 63,
   "id": "1be55e03",
   "metadata": {},
   "outputs": [
    {
     "name": "stdout",
     "output_type": "stream",
     "text": [
      "              precision    recall  f1-score   support\n",
      "\n",
      "    Negative       0.81      0.81      0.81      1633\n",
      "     Neutral       0.76      0.71      0.73       619\n",
      "    Positive       0.79      0.81      0.80      1546\n",
      "\n",
      "    accuracy                           0.79      3798\n",
      "   macro avg       0.79      0.78      0.78      3798\n",
      "weighted avg       0.79      0.79      0.79      3798\n",
      "\n"
     ]
    }
   ],
   "source": [
    "print(classification_report(y_test, y_hat, target_names=labels_3))"
   ]
  },
  {
   "cell_type": "markdown",
   "id": "1f5b033c",
   "metadata": {},
   "source": [
    "### Looking at which tweets we guessed incorrectly "
   ]
  },
  {
   "cell_type": "markdown",
   "id": "665141f0",
   "metadata": {},
   "source": [
    "Observations that were predicted **Negative** (y_hat = 0) but actually **Positive** (y_test = 2)\n",
    "\n",
    "*Printing the first 5 examples*"
   ]
  },
  {
   "cell_type": "code",
   "execution_count": 75,
   "id": "a7e4d75b",
   "metadata": {},
   "outputs": [
    {
     "name": "stdout",
     "output_type": "stream",
     "text": [
      "Ok if #COVID2019 is nothing to panic about why is Italy imposing the biggest restrictions on the civilian population since WW2? \r",
      "\r\n",
      "How will the supermarkets be able to provide food if all the workers are told to stay at home? \r",
      "\r\n",
      "Same with any other Bussiness. \n",
      "\n",
      "IMPORTANT UPDATE! Our CEO Brian Beaulieu has broadened the scope of his COVID-19 webinar. Expect more on the oil prices drop, stock market developments, retail sales, and unfolding situations in China and Italy. Learn more and register:   \n",
      "\n",
      "Solid advice for seniors, their family members &amp; those of who have #complexhealth care needs.@CDC: Older #Americans should consider stocking up on food, medications &amp; avoid venturing out as #coronavirus spreads  #COVID19Canada #CoronavirusCanada #bcseniors \n",
      "\n",
      "As I appear to be absolutely no good at stock piling/panic buying  food goods and toilet rolls for the #coronavirus I'm moving on to something I'm good at buying ?\r",
      "\r\n",
      "\r",
      "\r\n",
      "Tin whistles and Apple Watch bands.\r",
      "\r\n",
      "\r",
      "\r\n",
      "Better than toilet rolls ?  \n",
      "\n",
      "How the fuck am I safer from #coronavirus on a train or at a gas station or at a grocery store or gym than at #sxsw or a ballgame or a amusement park? Either put guys with gas masks and guns on the streets or let us live our lives \n",
      "\n"
     ]
    }
   ],
   "source": [
    "[print(example, '\\n') for example in x_test[(y_test == 2) & (np.asarray(y_hat) == 0)][:5]];"
   ]
  },
  {
   "cell_type": "markdown",
   "id": "4d05679c",
   "metadata": {},
   "source": [
    "Observations that were predicted **Positive** (y_hat = 2) but actually **Negative** (y_test = 0)\n",
    "\n",
    "*Printing the first 5 examples*"
   ]
  },
  {
   "cell_type": "code",
   "execution_count": 76,
   "id": "e4061c59",
   "metadata": {},
   "outputs": [
    {
     "name": "stdout",
     "output_type": "stream",
     "text": [
      "#AirSewa \r",
      "\r\n",
      "\r",
      "\r\n",
      "@flyspicejet is not providing #webchecin customers free seats.\r",
      "\r\n",
      "\r",
      "\r\n",
      "Passengers are forced to choose paid seats as free seats are made available only at airport counter. \r",
      "\r\n",
      "\r",
      "\r\n",
      "This should be stopped as its discriminatory and against travellers rights \r",
      "\r\n",
      "\r",
      "\r\n",
      "@HardeepSPuri @MoCA_GoI \n",
      "\n",
      "Coronavirus panic spreads: Costco is pulling free samples over COVID-19 - USA TODAY\r",
      "\r\n",
      "\r",
      "\r\n",
      "Coronavirus panic spreads: Costco is pulling free samples over COVID-19  USA TODAY\r",
      "\r\n",
      "\r",
      "\r\n",
      "'It's pandemonium': virus panic-buying hits Los Angeles  Yahoo News\r",
      "\r\n",
      "\r",
      "\r\n",
      "How Costco is Ha",
      "  \n",
      "\n",
      "Is this effective?\r",
      "\r\n",
      "Is it necessary?\r",
      "\r\n",
      "Or is it just optics?\r",
      "\r\n",
      "Scare tactics?\r",
      "\r\n",
      "For the American consumer?\r",
      "\r\n",
      "For US MSM to use?\r",
      "\r\n",
      "If optics, What is the intended effect?\r",
      "\r\n",
      "Fear?\r",
      "\r\n",
      "Crash US Market-&gt;panic-&gt;elect Biden\r",
      "\r\n",
      "\r",
      "\r\n",
      "#Qanon #coronavirus  \n",
      "\n",
      "Fellow Uni instructors! COVID-19 f2f class cancelations are  inconvenient! But remember you're salaried employees. Maybe call/email HR or your union &amp; demand to know how hourly workers (clerical, food-service, custodial, etc) will be  compensated during campus closures? \n",
      "\n",
      "1/25 Part 1 - Why does soap work so well on the SARS-CoV-2, the coronavirus and indeed most viruses? Because it is a self-assembled nanoparticle in which the weakest link is the lipid (fatty) bilayer. A two part thread about soap, viruses and supramolecular chemistry #COVID19  \n",
      "\n"
     ]
    }
   ],
   "source": [
    "[print(example, '\\n') for example in x_test[(y_test == 0) & (np.asarray(y_hat) == 2)][:5]];"
   ]
  }
 ],
 "metadata": {
  "kernelspec": {
   "display_name": "Python 3",
   "language": "python",
   "name": "python3"
  },
  "language_info": {
   "codemirror_mode": {
    "name": "ipython",
    "version": 3
   },
   "file_extension": ".py",
   "mimetype": "text/x-python",
   "name": "python",
   "nbconvert_exporter": "python",
   "pygments_lexer": "ipython3",
   "version": "3.7.11"
  }
 },
 "nbformat": 4,
 "nbformat_minor": 5
}
